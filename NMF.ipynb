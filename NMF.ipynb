{
 "cells": [
  {
   "cell_type": "code",
   "execution_count": 11,
   "metadata": {},
   "outputs": [],
   "source": [
    "import numpy as np\n",
    "import pandas as pd\n",
    "import sklearn.model_selection\n",
    "import sklearn.decomposition\n",
    "import scipy.sparse as ss\n",
    "%matplotlib inline"
   ]
  },
  {
   "cell_type": "code",
   "execution_count": 3,
   "metadata": {},
   "outputs": [
    {
     "data": {
      "text/html": [
       "<div>\n",
       "<style scoped>\n",
       "    .dataframe tbody tr th:only-of-type {\n",
       "        vertical-align: middle;\n",
       "    }\n",
       "\n",
       "    .dataframe tbody tr th {\n",
       "        vertical-align: top;\n",
       "    }\n",
       "\n",
       "    .dataframe thead th {\n",
       "        text-align: right;\n",
       "    }\n",
       "</style>\n",
       "<table border=\"1\" class=\"dataframe\">\n",
       "  <thead>\n",
       "    <tr style=\"text-align: right;\">\n",
       "      <th></th>\n",
       "      <th>userId</th>\n",
       "      <th>movieId</th>\n",
       "      <th>rating</th>\n",
       "      <th>timestamp</th>\n",
       "    </tr>\n",
       "  </thead>\n",
       "  <tbody>\n",
       "    <tr>\n",
       "      <th>0</th>\n",
       "      <td>1</td>\n",
       "      <td>1</td>\n",
       "      <td>4.0</td>\n",
       "      <td>2000-07-30 18:45:03</td>\n",
       "    </tr>\n",
       "    <tr>\n",
       "      <th>1</th>\n",
       "      <td>1</td>\n",
       "      <td>3</td>\n",
       "      <td>4.0</td>\n",
       "      <td>2000-07-30 18:20:47</td>\n",
       "    </tr>\n",
       "    <tr>\n",
       "      <th>2</th>\n",
       "      <td>1</td>\n",
       "      <td>6</td>\n",
       "      <td>4.0</td>\n",
       "      <td>2000-07-30 18:37:04</td>\n",
       "    </tr>\n",
       "    <tr>\n",
       "      <th>3</th>\n",
       "      <td>1</td>\n",
       "      <td>47</td>\n",
       "      <td>5.0</td>\n",
       "      <td>2000-07-30 19:03:35</td>\n",
       "    </tr>\n",
       "    <tr>\n",
       "      <th>4</th>\n",
       "      <td>1</td>\n",
       "      <td>50</td>\n",
       "      <td>5.0</td>\n",
       "      <td>2000-07-30 18:48:51</td>\n",
       "    </tr>\n",
       "    <tr>\n",
       "      <th>...</th>\n",
       "      <td>...</td>\n",
       "      <td>...</td>\n",
       "      <td>...</td>\n",
       "      <td>...</td>\n",
       "    </tr>\n",
       "    <tr>\n",
       "      <th>100831</th>\n",
       "      <td>610</td>\n",
       "      <td>166534</td>\n",
       "      <td>4.0</td>\n",
       "      <td>2017-05-03 21:53:22</td>\n",
       "    </tr>\n",
       "    <tr>\n",
       "      <th>100832</th>\n",
       "      <td>610</td>\n",
       "      <td>168248</td>\n",
       "      <td>5.0</td>\n",
       "      <td>2017-05-03 22:21:31</td>\n",
       "    </tr>\n",
       "    <tr>\n",
       "      <th>100833</th>\n",
       "      <td>610</td>\n",
       "      <td>168250</td>\n",
       "      <td>5.0</td>\n",
       "      <td>2017-05-08 19:50:47</td>\n",
       "    </tr>\n",
       "    <tr>\n",
       "      <th>100834</th>\n",
       "      <td>610</td>\n",
       "      <td>168252</td>\n",
       "      <td>5.0</td>\n",
       "      <td>2017-05-03 21:19:12</td>\n",
       "    </tr>\n",
       "    <tr>\n",
       "      <th>100835</th>\n",
       "      <td>610</td>\n",
       "      <td>170875</td>\n",
       "      <td>3.0</td>\n",
       "      <td>2017-05-03 21:20:15</td>\n",
       "    </tr>\n",
       "  </tbody>\n",
       "</table>\n",
       "<p>100836 rows × 4 columns</p>\n",
       "</div>"
      ],
      "text/plain": [
       "        userId  movieId  rating           timestamp\n",
       "0            1        1     4.0 2000-07-30 18:45:03\n",
       "1            1        3     4.0 2000-07-30 18:20:47\n",
       "2            1        6     4.0 2000-07-30 18:37:04\n",
       "3            1       47     5.0 2000-07-30 19:03:35\n",
       "4            1       50     5.0 2000-07-30 18:48:51\n",
       "...        ...      ...     ...                 ...\n",
       "100831     610   166534     4.0 2017-05-03 21:53:22\n",
       "100832     610   168248     5.0 2017-05-03 22:21:31\n",
       "100833     610   168250     5.0 2017-05-08 19:50:47\n",
       "100834     610   168252     5.0 2017-05-03 21:19:12\n",
       "100835     610   170875     3.0 2017-05-03 21:20:15\n",
       "\n",
       "[100836 rows x 4 columns]"
      ]
     },
     "execution_count": 3,
     "metadata": {},
     "output_type": "execute_result"
    }
   ],
   "source": [
    "df = pd.read_csv(\"data/ml-latest-small/ratings.csv\")\n",
    "df['timestamp'] = pd.to_datetime(df.timestamp, unit = 's')\n",
    "df"
   ]
  },
  {
   "cell_type": "code",
   "execution_count": 4,
   "metadata": {},
   "outputs": [],
   "source": [
    "#train/validation splinting\n",
    "trainSet, valSet = sklearn.model_selection.train_test_split(df.iloc[:,:3])\n",
    "trainSet = ss.coo_matrix((trainSet['rating'], (trainSet['userId'], trainSet['movieId'])), shape=(df['userId'].max()+1,df['movieId'].max()+1))\n",
    "valSet = ss.coo_matrix((valSet['rating'], (valSet['userId'], valSet['movieId'])), shape=(df['userId'].max()+1,df['movieId'].max()+1))"
   ]
  },
  {
   "cell_type": "code",
   "execution_count": 21,
   "metadata": {},
   "outputs": [
    {
     "name": "stdout",
     "output_type": "stream",
     "text": [
      "  (274, 33004)\t2.5\n",
      "  (448, 6314)\t2.0\n",
      "  (221, 6639)\t4.0\n",
      "  (95, 176)\t4.0\n",
      "  (489, 2628)\t1.0\n",
      "  (590, 2640)\t4.0\n",
      "  (425, 1393)\t3.0\n",
      "  (414, 5568)\t4.0\n",
      "  (298, 8636)\t2.5\n",
      "  (567, 2628)\t0.5\n",
      "  (318, 35836)\t3.5\n",
      "  (317, 78574)\t3.0\n",
      "  (249, 58103)\t4.0\n",
      "  (68, 1590)\t2.0\n",
      "  (68, 47200)\t2.0\n",
      "  (321, 153)\t5.0\n",
      "  (411, 592)\t3.0\n",
      "  (577, 2076)\t3.0\n",
      "  (495, 4545)\t4.0\n",
      "  (482, 1584)\t3.0\n",
      "  (187, 30810)\t4.0\n",
      "  (136, 15)\t5.0\n",
      "  (177, 2719)\t3.0\n",
      "  (191, 16)\t4.0\n",
      "  (200, 2248)\t3.5\n",
      "  :\t:\n",
      "  (566, 377)\t4.0\n",
      "  (140, 5902)\t3.0\n",
      "  (288, 2687)\t3.0\n",
      "  (139, 4734)\t1.5\n",
      "  (281, 8361)\t3.0\n",
      "  (191, 293)\t5.0\n",
      "  (564, 48385)\t3.0\n",
      "  (452, 2006)\t4.0\n",
      "  (570, 410)\t2.0\n",
      "  (333, 3646)\t2.0\n",
      "  (414, 454)\t3.0\n",
      "  (274, 59306)\t1.0\n",
      "  (465, 1092)\t4.0\n",
      "  (210, 5952)\t4.0\n",
      "  (599, 4553)\t3.5\n",
      "  (122, 2918)\t4.5\n",
      "  (448, 148709)\t2.0\n",
      "  (170, 150)\t3.0\n",
      "  (474, 1982)\t3.5\n",
      "  (453, 344)\t4.0\n",
      "  (373, 292)\t3.0\n",
      "  (181, 981)\t3.0\n",
      "  (230, 364)\t3.0\n",
      "  (414, 3441)\t4.0\n",
      "  (438, 4700)\t3.5\n"
     ]
    }
   ],
   "source": [
    "print(trainSet)"
   ]
  },
  {
   "cell_type": "code",
   "execution_count": 6,
   "metadata": {},
   "outputs": [
    {
     "data": {
      "text/plain": [
       "matrix([[0. , 0. , 0. , ..., 0. , 0. , 0. ],\n",
       "        [0. , 4. , 0. , ..., 0. , 0. , 0. ],\n",
       "        [0. , 0. , 0. , ..., 0. , 0. , 0. ],\n",
       "        ...,\n",
       "        [0. , 2.5, 2. , ..., 0. , 0. , 0. ],\n",
       "        [0. , 3. , 0. , ..., 0. , 0. , 0. ],\n",
       "        [0. , 5. , 0. , ..., 0. , 0. , 0. ]])"
      ]
     },
     "execution_count": 6,
     "metadata": {},
     "output_type": "execute_result"
    }
   ],
   "source": [
    "trainSet.todense() #row 0 is all zeros as  userId start from 1, properly not a good practise though"
   ]
  },
  {
   "cell_type": "code",
   "execution_count": 7,
   "metadata": {},
   "outputs": [],
   "source": [
    "#I cannot find a pre-defined method to calculate validation loss\n",
    "def validation(W,H, valSet):\n",
    "    error = 0\n",
    "    for (row, col, data) in zip(valSet.row, valSet.col, valSet.data):\n",
    "        error += abs(np.dot(W[row], H[:,col]) - data)\n",
    "    return error"
   ]
  },
  {
   "cell_type": "code",
   "execution_count": 9,
   "metadata": {},
   "outputs": [],
   "source": [
    "error = np.zeros(10)\n",
    "trainloss = np.zeros(10)\n",
    "for i in range(1,10):\n",
    "    model = sklearn.decomposition.NMF(n_components=2*i, init = \"nndsvd\", alpha = 1, max_iter = 1000)\n",
    "    W = model.fit_transform(trainSet)\n",
    "    H = model.components_\n",
    "    trainloss[i] = model.reconstruction_err_\n",
    "    error[i] = validation(W, H, valSet)"
   ]
  },
  {
   "cell_type": "code",
   "execution_count": 19,
   "metadata": {},
   "outputs": [
    {
     "data": {
      "text/plain": [
       "Text(0.5, 0.98, 'loss against n_components(hyperparameter)')"
      ]
     },
     "execution_count": 19,
     "metadata": {},
     "output_type": "execute_result"
    },
    {
     "data": {
      "image/png": "[encoded data removed]",
      "text/plain": [
       "<Figure size 432x288 with 2 Axes>"
      ]
     },
     "metadata": {
      "needs_background": "light"
     },
     "output_type": "display_data"
    }
   ],
   "source": [
    "fig, axes = plt.subplots(2)\n",
    "axes[0].plot([2*i for i in range(1,10)],error[1:])\n",
    "axes[0].set_title('validation loss')\n",
    "axes[1].plot([2*i for i in range(1,10)],trainloss[1:])\n",
    "axes[1].set_title('train loss')\n",
    "fig.suptitle(\"loss against n_components(hyperparameter)\")\n",
    "\n"
   ]
  },
  {
   "cell_type": "code",
   "execution_count": null,
   "metadata": {},
   "outputs": [],
   "source": []
  }
 ],
 "metadata": {
  "kernelspec": {
   "display_name": "Python 3",
   "language": "python",
   "name": "python3"
  },
  "language_info": {
   "codemirror_mode": {
    "name": "ipython",
    "version": 3
   },
   "file_extension": ".py",
   "mimetype": "text/x-python",
   "name": "python",
   "nbconvert_exporter": "python",
   "pygments_lexer": "ipython3",
   "version": "3.7.6"
  }
 },
 "nbformat": 4,
 "nbformat_minor": 4
}
